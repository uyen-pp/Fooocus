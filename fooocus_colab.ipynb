{
 "cells": [
  {
   "cell_type": "code",
   "execution_count": 1,
   "metadata": {
    "id": "VjYy0F2gZIPR"
   },
   "outputs": [
    {
     "name": "stdout",
     "output_type": "stream",
     "text": [
      "Collecting pygit2==1.15.1\n",
      "  Using cached pygit2-1.15.1-cp310-cp310-macosx_10_9_universal2.whl (5.9 MB)\n",
      "Collecting cffi>=1.16.0\n",
      "  Using cached cffi-1.17.1-cp310-cp310-macosx_10_9_x86_64.whl (182 kB)\n",
      "Collecting pycparser\n",
      "  Using cached pycparser-2.22-py3-none-any.whl (117 kB)\n",
      "Installing collected packages: pycparser, cffi, pygit2\n",
      "Successfully installed cffi-1.17.1 pycparser-2.22 pygit2-1.15.1\n",
      "[Errno 2] No such file or directory: '/content'\n",
      "/Users/uyen/BORGU/foo/Fooocus\n",
      "Cloning into 'Fooocus'...\n",
      "remote: Enumerating objects: 6542, done.\u001b[K\n",
      "remote: Counting objects: 100% (21/21), done.\u001b[K\n",
      "remote: Compressing objects: 100% (15/15), done.\u001b[K\n",
      "remote: Total 6542 (delta 10), reused 13 (delta 6), pack-reused 6521 (from 1)\u001b[K\n",
      "Receiving objects: 100% (6542/6542), 33.19 MiB | 15.55 MiB/s, done.\n",
      "Resolving deltas: 100% (3749/3749), done.\n",
      "[Errno 2] No such file or directory: '/content/Fooocus'\n",
      "/Users/uyen/BORGU/foo/Fooocus\n"
     ]
    }
   ],
   "source": [
    "!pip install pygit2==1.15.1\n",
    "%cd /content\n",
    "!git clone https://github.com/uyen-pp/Fooocus.git --single-branch --branch myrun\n",
    "%cd /content/Fooocus"
   ]
  },
  {
   "cell_type": "code",
   "execution_count": 2,
   "metadata": {},
   "outputs": [
    {
     "name": "stdout",
     "output_type": "stream",
     "text": [
      "Already up-to-date\n",
      "Update succeeded.\n",
      "[System ARGV] ['entry_with_update.py', '--share', '--always-high-vram']\n",
      "Python 3.10.6 (main, Oct 24 2022, 11:04:34) [Clang 12.0.0 ]\n",
      "Fooocus version: 2.5.5\n",
      "Version mismatch for torchsde: Installed version 0.2.5 does not meet requirement torchsde==0.2.6\n",
      "Installing requirements\n",
      "Couldn't install requirements.\n",
      "Command: \"/opt/anaconda3/envs/SD/bin/python\" -m pip install -r \"requirements_versions.txt\" --prefer-binary\n",
      "Error code: 1\n",
      "stdout: Collecting torchsde==0.2.6\n",
      "  Using cached torchsde-0.2.6-py3-none-any.whl (61 kB)\n",
      "Collecting einops==0.8.0\n",
      "  Using cached einops-0.8.0-py3-none-any.whl (43 kB)\n",
      "Collecting transformers==4.42.4\n",
      "  Using cached transformers-4.42.4-py3-none-any.whl (9.3 MB)\n",
      "Collecting safetensors==0.4.3\n",
      "  Using cached safetensors-0.4.3-cp310-cp310-macosx_10_12_x86_64.whl (415 kB)\n",
      "Collecting accelerate==0.32.1\n",
      "  Using cached accelerate-0.32.1-py3-none-any.whl (314 kB)\n",
      "Collecting pyyaml==6.0.1\n",
      "  Using cached PyYAML-6.0.1-cp310-cp310-macosx_10_9_x86_64.whl (189 kB)\n",
      "Collecting pillow==10.4.0\n",
      "  Using cached pillow-10.4.0-cp310-cp310-macosx_10_10_x86_64.whl (3.5 MB)\n",
      "Collecting scipy==1.14.0\n",
      "  Using cached scipy-1.14.0-cp310-cp310-macosx_10_9_x86_64.whl (39.1 MB)\n",
      "Collecting tqdm==4.66.4\n",
      "  Using cached tqdm-4.66.4-py3-none-any.whl (78 kB)\n",
      "Collecting psutil==6.0.0\n",
      "  Using cached psutil-6.0.0-cp36-abi3-macosx_10_9_x86_64.whl (250 kB)\n",
      "Collecting pytorch_lightning==2.3.3\n",
      "  Using cached pytorch_lightning-2.3.3-py3-none-any.whl (812 kB)\n",
      "Collecting omegaconf==2.3.0\n",
      "  Using cached omegaconf-2.3.0-py3-none-any.whl (79 kB)\n",
      "Collecting gradio==3.41.2\n",
      "  Using cached gradio-3.41.2-py3-none-any.whl (20.1 MB)\n",
      "Requirement already satisfied: pygit2==1.15.1 in /opt/anaconda3/envs/SD/lib/python3.10/site-packages (from -r requirements_versions.txt (line 14)) (1.15.1)\n",
      "Collecting opencv-contrib-python-headless==4.10.0.84\n",
      "  Using cached opencv-contrib-python-headless-4.10.0.84.tar.gz (150.5 MB)\n",
      "  Installing build dependencies: started\n",
      "  Installing build dependencies: finished with status 'done'\n",
      "  Getting requirements to build wheel: started\n",
      "  Getting requirements to build wheel: finished with status 'done'\n",
      "  Preparing metadata (pyproject.toml): started\n",
      "  Preparing metadata (pyproject.toml): finished with status 'done'\n",
      "Collecting httpx==0.27.0\n",
      "  Using cached httpx-0.27.0-py3-none-any.whl (75 kB)\n",
      "\n",
      "stderr: \u001b[31mERROR: Ignored the following versions that require a different python version: 1.6.2 Requires-Python >=3.7,<3.10; 1.6.3 Requires-Python >=3.7,<3.10; 1.7.0 Requires-Python >=3.7,<3.10; 1.7.1 Requires-Python >=3.7,<3.10\u001b[0m\u001b[31m\n",
      "\u001b[0m\u001b[31mERROR: Could not find a version that satisfies the requirement onnxruntime==1.18.1 (from versions: 1.12.0, 1.12.1, 1.13.1, 1.14.1, 1.15.0, 1.15.1, 1.16.0, 1.16.1, 1.16.2, 1.16.3)\u001b[0m\u001b[31m\n",
      "\u001b[0m\u001b[31mERROR: No matching distribution found for onnxruntime==1.18.1\u001b[0m\u001b[31m\n",
      "\u001b[0m\n",
      "CMD Failed requirements: install -r \"requirements_versions.txt\"\n",
      "[Cleanup] Attempting to delete content of temp dir /var/folders/l_/2j2ptl410pq3b91jm5mp8vb00000gn/T/fooocus\n",
      "[Cleanup] Cleanup successful\n",
      "Downloading: \"https://huggingface.co/lllyasviel/misc/resolve/main/xlvaeapp.pth\" to /Users/uyen/BORGU/foo/Fooocus/models/vae_approx/xlvaeapp.pth\n",
      "\n",
      "100%|█████████████████████████████████████████| 209k/209k [00:00<00:00, 133MB/s]\n",
      "Downloading: \"https://huggingface.co/lllyasviel/misc/resolve/main/vaeapp_sd15.pt\" to /Users/uyen/BORGU/foo/Fooocus/models/vae_approx/vaeapp_sd15.pth\n",
      "\n",
      "100%|████████████████████████████████████████| 209k/209k [00:00<00:00, 13.0MB/s]\n",
      "Downloading: \"https://huggingface.co/mashb1t/misc/resolve/main/xl-to-v1_interposer-v4.0.safetensors\" to /Users/uyen/BORGU/foo/Fooocus/models/vae_approx/xl-to-v1_interposer-v4.0.safetensors\n",
      "\n",
      "100%|██████████████████████████████████████| 5.40M/5.40M [00:00<00:00, 22.4MB/s]\n",
      "Downloading: \"https://huggingface.co/lllyasviel/misc/resolve/main/fooocus_expansion.bin\" to /Users/uyen/BORGU/foo/Fooocus/models/prompt_expansion/fooocus_expansion/pytorch_model.bin\n",
      "\n",
      "100%|████████████████████████████████████████| 335M/335M [00:17<00:00, 20.0MB/s]\n",
      "Downloading: \"https://huggingface.co/lllyasviel/fav_models/resolve/main/fav/juggernautXL_v8Rundiffusion.safetensors\" to /Users/uyen/BORGU/foo/Fooocus/models/checkpoints/juggernautXL_v8Rundiffusion.safetensors\n",
      "\n",
      " 81%|██████████████████████████████▉       | 5.39G/6.62G [05:50<01:19, 16.5MB/s]\n",
      "Traceback (most recent call last):\n",
      "  File \"/Users/uyen/BORGU/foo/Fooocus/entry_with_update.py\", line 46, in <module>\n",
      "    from launch import *\n",
      "  File \"/Users/uyen/BORGU/foo/Fooocus/launch.py\", line 145, in <module>\n",
      "    config.default_base_model_name, config.checkpoint_downloads = download_models(\n",
      "  File \"/Users/uyen/BORGU/foo/Fooocus/launch.py\", line 133, in download_models\n",
      "    load_file_from_url(url=url, model_dir=model_dir, file_name=file_name)\n",
      "  File \"/Users/uyen/BORGU/foo/Fooocus/modules/model_loader.py\", line 27, in load_file_from_url\n",
      "    download_url_to_file(url, cached_file, progress=progress)\n",
      "  File \"/opt/anaconda3/envs/SD/lib/python3.10/site-packages/torch/hub.py\", line 636, in download_url_to_file\n",
      "    f.write(buffer)\n",
      "  File \"/opt/anaconda3/envs/SD/lib/python3.10/tempfile.py\", line 483, in func_wrapper\n",
      "    return func(*args, **kwargs)\n",
      "OSError: [Errno 28] No space left on device\n"
     ]
    }
   ],
   "source": [
    "!python entry_with_update.py --share --always-high-vram"
   ]
  }
 ],
 "metadata": {
  "accelerator": "GPU",
  "colab": {
   "gpuType": "T4",
   "provenance": []
  },
  "kernelspec": {
   "display_name": "Python 3",
   "name": "python3"
  },
  "language_info": {
   "codemirror_mode": {
    "name": "ipython",
    "version": 3
   },
   "file_extension": ".py",
   "mimetype": "text/x-python",
   "name": "python",
   "nbconvert_exporter": "python",
   "pygments_lexer": "ipython3",
   "version": "3.10.6"
  }
 },
 "nbformat": 4,
 "nbformat_minor": 0
}
